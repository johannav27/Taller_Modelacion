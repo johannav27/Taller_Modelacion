{
 "cells": [
  {
   "cell_type": "code",
   "execution_count": 49,
   "metadata": {},
   "outputs": [],
   "source": [
    "import numpy as np\n",
    "import math as mt\n",
    "import sys\n",
    "import decimal\n",
    "\n",
    "def Mercurio(decaer,dias,pecesPorSemana):\n",
    "    A=0\n",
    "    for i in range(dias):\n",
    "        #print(A*(decimal.Decimal(1/(2**decaer))),'a')\n",
    "        A=A*(decimal.Decimal(1/(2**(1/decaer))))+decimal.Decimal(.43*500*(pecesPorSemana/7))\n",
    "        #print(A)\n",
    "    return(A)\n"
   ]
  },
  {
   "cell_type": "code",
   "execution_count": 50,
   "metadata": {},
   "outputs": [
    {
     "data": {
      "text/plain": [
       "Decimal('3180.829478857196823842195053')"
      ]
     },
     "execution_count": 50,
     "metadata": {},
     "output_type": "execute_result"
    }
   ],
   "source": [
    "Mercurio(75,70,2)"
   ]
  },
  {
   "cell_type": "code",
   "execution_count": 57,
   "metadata": {},
   "outputs": [
    {
     "name": "stdout",
     "output_type": "stream",
     "text": [
      "30514.09162241838550836933874\n"
     ]
    }
   ],
   "source": [
    "print(Mercurio(65,70,20))"
   ]
  },
  {
   "cell_type": "code",
   "execution_count": 38,
   "metadata": {},
   "outputs": [
    {
     "ename": "SyntaxError",
     "evalue": "unexpected EOF while parsing (<ipython-input-38-eec1c00a23be>, line 1)",
     "output_type": "error",
     "traceback": [
      "\u001b[1;36m  File \u001b[1;32m\"<ipython-input-38-eec1c00a23be>\"\u001b[1;36m, line \u001b[1;32m1\u001b[0m\n\u001b[1;33m    print(decimal.Decimal(1/(2**(1/70))+1)\u001b[0m\n\u001b[1;37m                                          ^\u001b[0m\n\u001b[1;31mSyntaxError\u001b[0m\u001b[1;31m:\u001b[0m unexpected EOF while parsing\n"
     ]
    }
   ],
   "source": [
    "print(decimal.Decimal(1/(2**(1/70))+1)"
   ]
  }
 ],
 "metadata": {
  "kernelspec": {
   "display_name": "Python 3.8.1 32-bit",
   "language": "python",
   "name": "python3"
  },
  "language_info": {
   "codemirror_mode": {
    "name": "ipython",
    "version": 3
   },
   "file_extension": ".py",
   "mimetype": "text/x-python",
   "name": "python",
   "nbconvert_exporter": "python",
   "pygments_lexer": "ipython3",
   "version": "3.8.1"
  },
  "orig_nbformat": 4,
  "vscode": {
   "interpreter": {
    "hash": "4e42fba718266b520890ae75faac1b74de4c7049df04a352cf000d3f932ed3d8"
   }
  }
 },
 "nbformat": 4,
 "nbformat_minor": 2
}
